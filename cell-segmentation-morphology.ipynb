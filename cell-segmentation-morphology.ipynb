{
 "cells": [
  {
   "cell_type": "code",
   "execution_count": 1,
   "metadata": {},
   "outputs": [],
   "source": [
    "from IPython.core.interactiveshell import InteractiveShell\n",
    "InteractiveShell.ast_node_interactivity = \"all\"\n",
    "\n",
    "import pandas as pd\n",
    "import anndata as ad\n",
    "from pathlib import Path\n",
    "import seaborn as sns\n",
    "import matplotlib.pyplot as plt"
   ]
  },
  {
   "cell_type": "code",
   "execution_count": 2,
   "metadata": {},
   "outputs": [],
   "source": [
    "rxrx3_adata = ad.read_h5ad('rxrx3.h5ad')\n",
    "rxrx3_adata.obs_names = rxrx3_adata.obs['well_id']"
   ]
  },
  {
   "cell_type": "code",
   "execution_count": 3,
   "metadata": {},
   "outputs": [
    {
     "name": "stderr",
     "output_type": "stream",
     "text": [
      "/tmp/ipykernel_1012854/1686469797.py:16: FutureWarning: The behavior of DataFrame concatenation with empty or all-NA entries is deprecated. In a future version, this will no longer exclude empty or all-NA columns when determining the result dtypes. To retain the old behavior, exclude the relevant entries before the concat operation.\n",
      "  segmentation_results = pd.concat(segmentation_results)\n"
     ]
    }
   ],
   "source": [
    "import re\n",
    "import numpy as np\n",
    "pattern = r'Plate\\d+_(\\w+-\\d+_*_\\d+_\\w+\\d+)_'\n",
    "\n",
    "segmentation_results = []\n",
    "for csv_file in Path('egfr-images3').rglob('*.csv'):\n",
    "    well_id = re.findall(pattern, csv_file.stem)[0]\n",
    "    well_data = rxrx3_adata[well_id, :].copy()\n",
    "    if well_data.obs['perturbation_type'].values[0] == 'CRISPR':\n",
    "        well_data.obs['treatment'] = well_data.obs['gene'].astype(str) + '_KO'\n",
    "    df = pd.read_csv(csv_file)\n",
    "    df['well_id'] = well_id\n",
    "    avg_df = df.replace(np.nan, 0).groupby('well_id').mean()\n",
    "    avg_df = pd.concat([well_data.obs, avg_df], axis=1)\n",
    "    segmentation_results.append(avg_df)\n",
    "segmentation_results = pd.concat(segmentation_results)\n"
   ]
  },
  {
   "cell_type": "code",
   "execution_count": 4,
   "metadata": {},
   "outputs": [
    {
     "data": {
      "text/html": [
       "<div>\n",
       "<style scoped>\n",
       "    .dataframe tbody tr th:only-of-type {\n",
       "        vertical-align: middle;\n",
       "    }\n",
       "\n",
       "    .dataframe tbody tr th {\n",
       "        vertical-align: top;\n",
       "    }\n",
       "\n",
       "    .dataframe thead th {\n",
       "        text-align: right;\n",
       "    }\n",
       "</style>\n",
       "<table border=\"1\" class=\"dataframe\">\n",
       "  <thead>\n",
       "    <tr style=\"text-align: right;\">\n",
       "      <th></th>\n",
       "      <th>well_id</th>\n",
       "      <th>experiment_name</th>\n",
       "      <th>plate</th>\n",
       "      <th>address</th>\n",
       "      <th>gene</th>\n",
       "      <th>treatment</th>\n",
       "      <th>SMILES</th>\n",
       "      <th>concentration</th>\n",
       "      <th>perturbation_type</th>\n",
       "      <th>cell_type</th>\n",
       "    </tr>\n",
       "    <tr>\n",
       "      <th>well_id</th>\n",
       "      <th></th>\n",
       "      <th></th>\n",
       "      <th></th>\n",
       "      <th></th>\n",
       "      <th></th>\n",
       "      <th></th>\n",
       "      <th></th>\n",
       "      <th></th>\n",
       "      <th></th>\n",
       "      <th></th>\n",
       "    </tr>\n",
       "  </thead>\n",
       "  <tbody>\n",
       "    <tr>\n",
       "      <th>gene-081_6_O39</th>\n",
       "      <td>gene-081_6_O39</td>\n",
       "      <td>gene-081</td>\n",
       "      <td>6</td>\n",
       "      <td>O39</td>\n",
       "      <td>EGFR</td>\n",
       "      <td>EGFR_KO</td>\n",
       "      <td>NaN</td>\n",
       "      <td>NaN</td>\n",
       "      <td>CRISPR</td>\n",
       "      <td>HUVEC</td>\n",
       "    </tr>\n",
       "  </tbody>\n",
       "</table>\n",
       "</div>"
      ],
      "text/plain": [
       "                       well_id experiment_name  plate address  gene treatment  \\\n",
       "well_id                                                                         \n",
       "gene-081_6_O39  gene-081_6_O39        gene-081      6     O39  EGFR   EGFR_KO   \n",
       "\n",
       "               SMILES  concentration perturbation_type cell_type  \n",
       "well_id                                                           \n",
       "gene-081_6_O39    NaN            NaN            CRISPR     HUVEC  "
      ]
     },
     "execution_count": 4,
     "metadata": {},
     "output_type": "execute_result"
    }
   ],
   "source": [
    "well_data.obs"
   ]
  },
  {
   "cell_type": "code",
   "execution_count": 14,
   "metadata": {},
   "outputs": [
    {
     "name": "stdout",
     "output_type": "stream",
     "text": [
      "All plots have been saved to 'segmentation_histograms.pdf'\n"
     ]
    }
   ],
   "source": [
    "from matplotlib.backends.backend_pdf import PdfPages\n",
    "\n",
    "df = segmentation_results.melt(id_vars=['well_id', 'treatment', 'experiment_name', 'plate', 'address', 'gene', 'SMILES', 'concentration', 'perturbation_type', 'cell_type'])\n",
    "\n",
    "\n",
    "variables_to_plot = ['cell_area', 'cell_perimeter', 'cell_eccentricity', 'cell_mean_intensity', 'cell_texture_entropy',\n",
    "                     'nucleus_area', 'nucleus_perimeter', 'nucleus_eccentricity', 'nucleus_mean_intensity', \n",
    "                     'nucleus_texture_entropy', 'mitochondria_area', 'mitochondria_perimeter', \n",
    "                     'mitochondria_eccentricity', 'mitochondria_mean_intensity', 'golgi_area', 'golgi_perimeter',\n",
    "                     'golgi_eccentricity', 'golgi_mean_intensity', 'mito_distance_to_nucleus', \n",
    "                     'golgi_distance_to_nucleus', 'mito_distance_to_golgi', 'mito_golgi_overlap', \n",
    "                     'mito_nucleus_overlap', 'golgi_nucleus_overlap', 'manders_mito_golgi', 'pearson_mito_golgi', \n",
    "                     'distance_mito_membrane', 'distance_golgi_membrane', 'distance_nucleus_membrane']\n",
    "\n",
    "# open a pdf file to save all plots\n",
    "with PdfPages('segmentation_histograms.pdf') as pdf:\n",
    "    # create a figure and loop through each variable to plot\n",
    "    for variable in variables_to_plot:\n",
    "        _ = plt.figure(figsize=(10, 6))  # set figure size\n",
    "        _ = sns.histplot(df.query(f'variable == \"{variable}\"'), x='value', hue='treatment')\n",
    "        \n",
    "        _ = plt.title(variable, fontsize=16)  # add title with variable name\n",
    "        _ = plt.tight_layout()  # ensure everything fits well\n",
    "        \n",
    "        # save the current figure to the pdf\n",
    "        pdf.savefig()\n",
    "        plt.close()  # close the figure to free memory\n",
    "\n",
    "print(\"All plots have been saved to 'segmentation_histograms.pdf'\")\n"
   ]
  },
  {
   "cell_type": "code",
   "execution_count": null,
   "metadata": {},
   "outputs": [],
   "source": [
    "import matplotlib.pyplot as plt\n",
    "import seaborn as sns\n",
    "from matplotlib.backends.backend_pdf import PdfPages\n",
    "\n",
    "# Assuming df is your melted dataframe as before\n",
    "\n",
    "# variables_to_plot = ['cell_area', 'cell_perimeter', 'cell_eccentricity', 'nucleus_area', 'nucleus_perimeter']  # Reduced list for quicker execution\n",
    "variables_to_plot = ['cell_area', 'cell_perimeter', 'cell_eccentricity', 'cell_mean_intensity', 'cell_texture_entropy',\n",
    "                     'nucleus_area', 'nucleus_perimeter', 'nucleus_eccentricity', 'nucleus_mean_intensity', \n",
    "                     'nucleus_texture_entropy', 'mitochondria_area', 'mitochondria_perimeter', \n",
    "                     'mitochondria_eccentricity', 'mitochondria_mean_intensity', 'golgi_area', 'golgi_perimeter',\n",
    "                     'golgi_eccentricity', 'golgi_mean_intensity', 'mito_distance_to_nucleus', \n",
    "                     'golgi_distance_to_nucleus', 'mito_distance_to_golgi', 'mito_golgi_overlap', \n",
    "                     'mito_nucleus_overlap', 'golgi_nucleus_overlap', 'manders_mito_golgi', 'pearson_mito_golgi', \n",
    "                     'distance_mito_membrane', 'distance_golgi_membrane', 'distance_nucleus_membrane']\n",
    "\n",
    "with PdfPages('segmentation_plots_colored_treatments.pdf') as pdf:\n",
    "    for variable in variables_to_plot:\n",
    "        plt.figure(figsize=(16, 8))\n",
    "        \n",
    "        var_df = df[df['variable'] == variable]\n",
    "        \n",
    "        # Create a new column combining treatment and concentration\n",
    "        var_df['treatment_conc'] = var_df['treatment'] + ' (' + var_df['concentration'].astype(str) + ')'\n",
    "        \n",
    "        # Create the box plot with color-coded treatments\n",
    "        _ = sns.boxplot(x='treatment_conc', y='value', data=var_df, hue='treatment', palette='Set2')\n",
    "        \n",
    "        _ = plt.title(f'{variable} by Treatment and Concentration', fontsize=16)\n",
    "        _ = plt.xlabel('Treatment (Concentration)', fontsize=12)\n",
    "        _ = plt.ylabel(variable, fontsize=12)\n",
    "        _ = plt.xticks(rotation=90, ha='right')\n",
    "        \n",
    "        # Adjust legend\n",
    "        _ = plt.legend(title='Treatment', bbox_to_anchor=(1.05, 1), loc='upper left')\n",
    "        \n",
    "        _ = plt.tight_layout()\n",
    "        pdf.savefig()\n",
    "        plt.close()\n",
    "\n",
    "print(\"Plots saved to 'segmentation_plots_colored_treatments.pdf'\")"
   ]
  },
  {
   "cell_type": "code",
   "execution_count": 16,
   "metadata": {},
   "outputs": [
    {
     "data": {
      "text/plain": [
       "<Figure size 1800x1000 with 0 Axes>"
      ]
     },
     "execution_count": 16,
     "metadata": {},
     "output_type": "execute_result"
    },
    {
     "data": {
      "text/plain": [
       "<Figure size 1800x1000 with 0 Axes>"
      ]
     },
     "execution_count": 16,
     "metadata": {},
     "output_type": "execute_result"
    },
    {
     "data": {
      "text/plain": [
       "<Figure size 1800x1000 with 0 Axes>"
      ]
     },
     "execution_count": 16,
     "metadata": {},
     "output_type": "execute_result"
    },
    {
     "data": {
      "text/plain": [
       "<Figure size 1800x1000 with 0 Axes>"
      ]
     },
     "execution_count": 16,
     "metadata": {},
     "output_type": "execute_result"
    },
    {
     "data": {
      "text/plain": [
       "<Figure size 1800x1000 with 0 Axes>"
      ]
     },
     "execution_count": 16,
     "metadata": {},
     "output_type": "execute_result"
    },
    {
     "data": {
      "text/plain": [
       "<Figure size 1800x1000 with 0 Axes>"
      ]
     },
     "execution_count": 16,
     "metadata": {},
     "output_type": "execute_result"
    },
    {
     "data": {
      "text/plain": [
       "<Figure size 1800x1000 with 0 Axes>"
      ]
     },
     "execution_count": 16,
     "metadata": {},
     "output_type": "execute_result"
    },
    {
     "data": {
      "text/plain": [
       "<Figure size 1800x1000 with 0 Axes>"
      ]
     },
     "execution_count": 16,
     "metadata": {},
     "output_type": "execute_result"
    },
    {
     "data": {
      "text/plain": [
       "<Figure size 1800x1000 with 0 Axes>"
      ]
     },
     "execution_count": 16,
     "metadata": {},
     "output_type": "execute_result"
    },
    {
     "data": {
      "text/plain": [
       "<Figure size 1800x1000 with 0 Axes>"
      ]
     },
     "execution_count": 16,
     "metadata": {},
     "output_type": "execute_result"
    },
    {
     "data": {
      "text/plain": [
       "<Figure size 1800x1000 with 0 Axes>"
      ]
     },
     "execution_count": 16,
     "metadata": {},
     "output_type": "execute_result"
    },
    {
     "data": {
      "text/plain": [
       "<Figure size 1800x1000 with 0 Axes>"
      ]
     },
     "execution_count": 16,
     "metadata": {},
     "output_type": "execute_result"
    },
    {
     "data": {
      "text/plain": [
       "<Figure size 1800x1000 with 0 Axes>"
      ]
     },
     "execution_count": 16,
     "metadata": {},
     "output_type": "execute_result"
    },
    {
     "data": {
      "text/plain": [
       "<Figure size 1800x1000 with 0 Axes>"
      ]
     },
     "execution_count": 16,
     "metadata": {},
     "output_type": "execute_result"
    },
    {
     "data": {
      "text/plain": [
       "<Figure size 1800x1000 with 0 Axes>"
      ]
     },
     "execution_count": 16,
     "metadata": {},
     "output_type": "execute_result"
    },
    {
     "data": {
      "text/plain": [
       "<Figure size 1800x1000 with 0 Axes>"
      ]
     },
     "execution_count": 16,
     "metadata": {},
     "output_type": "execute_result"
    },
    {
     "data": {
      "text/plain": [
       "<Figure size 1800x1000 with 0 Axes>"
      ]
     },
     "execution_count": 16,
     "metadata": {},
     "output_type": "execute_result"
    },
    {
     "data": {
      "text/plain": [
       "<Figure size 1800x1000 with 0 Axes>"
      ]
     },
     "execution_count": 16,
     "metadata": {},
     "output_type": "execute_result"
    },
    {
     "data": {
      "text/plain": [
       "<Figure size 1800x1000 with 0 Axes>"
      ]
     },
     "execution_count": 16,
     "metadata": {},
     "output_type": "execute_result"
    },
    {
     "data": {
      "text/plain": [
       "<Figure size 1800x1000 with 0 Axes>"
      ]
     },
     "execution_count": 16,
     "metadata": {},
     "output_type": "execute_result"
    },
    {
     "data": {
      "text/plain": [
       "<Figure size 1800x1000 with 0 Axes>"
      ]
     },
     "execution_count": 16,
     "metadata": {},
     "output_type": "execute_result"
    },
    {
     "data": {
      "text/plain": [
       "<Figure size 1800x1000 with 0 Axes>"
      ]
     },
     "execution_count": 16,
     "metadata": {},
     "output_type": "execute_result"
    },
    {
     "data": {
      "text/plain": [
       "<Figure size 1800x1000 with 0 Axes>"
      ]
     },
     "execution_count": 16,
     "metadata": {},
     "output_type": "execute_result"
    },
    {
     "data": {
      "text/plain": [
       "<Figure size 1800x1000 with 0 Axes>"
      ]
     },
     "execution_count": 16,
     "metadata": {},
     "output_type": "execute_result"
    },
    {
     "data": {
      "text/plain": [
       "<Figure size 1800x1000 with 0 Axes>"
      ]
     },
     "execution_count": 16,
     "metadata": {},
     "output_type": "execute_result"
    },
    {
     "data": {
      "text/plain": [
       "<Figure size 1800x1000 with 0 Axes>"
      ]
     },
     "execution_count": 16,
     "metadata": {},
     "output_type": "execute_result"
    },
    {
     "data": {
      "text/plain": [
       "<Figure size 1800x1000 with 0 Axes>"
      ]
     },
     "execution_count": 16,
     "metadata": {},
     "output_type": "execute_result"
    },
    {
     "data": {
      "text/plain": [
       "<Figure size 1800x1000 with 0 Axes>"
      ]
     },
     "execution_count": 16,
     "metadata": {},
     "output_type": "execute_result"
    },
    {
     "data": {
      "text/plain": [
       "<Figure size 1800x1000 with 0 Axes>"
      ]
     },
     "execution_count": 16,
     "metadata": {},
     "output_type": "execute_result"
    },
    {
     "name": "stdout",
     "output_type": "stream",
     "text": [
      "Plots saved to 'segmentation_plots_sorted_concentrations.pdf'\n"
     ]
    }
   ],
   "source": [
    "import matplotlib.pyplot as plt\n",
    "import seaborn as sns\n",
    "from matplotlib.backends.backend_pdf import PdfPages\n",
    "import pandas as pd\n",
    "\n",
    "# Assuming df is your melted dataframe as before\n",
    "\n",
    "variables_to_plot = ['cell_area', 'cell_perimeter', 'cell_eccentricity', 'cell_mean_intensity', 'cell_texture_entropy',\n",
    "                     'nucleus_area', 'nucleus_perimeter', 'nucleus_eccentricity', 'nucleus_mean_intensity', \n",
    "                     'nucleus_texture_entropy', 'mitochondria_area', 'mitochondria_perimeter', \n",
    "                     'mitochondria_eccentricity', 'mitochondria_mean_intensity', 'golgi_area', 'golgi_perimeter',\n",
    "                     'golgi_eccentricity', 'golgi_mean_intensity', 'mito_distance_to_nucleus', \n",
    "                     'golgi_distance_to_nucleus', 'mito_distance_to_golgi', 'mito_golgi_overlap', \n",
    "                     'mito_nucleus_overlap', 'golgi_nucleus_overlap', 'manders_mito_golgi', 'pearson_mito_golgi', \n",
    "                     'distance_mito_membrane', 'distance_golgi_membrane', 'distance_nucleus_membrane']\n",
    "\n",
    "with PdfPages('segmentation_plots_sorted_concentrations.pdf') as pdf:\n",
    "    for variable in variables_to_plot:\n",
    "        plt.figure(figsize=(18, 10))\n",
    "        \n",
    "        var_df = df[df['variable'] == variable].copy()\n",
    "        \n",
    "        # Ensure concentration is numeric for sorting\n",
    "        var_df['concentration'] = pd.to_numeric(var_df['concentration'], errors='coerce')\n",
    "        \n",
    "        # Sort the dataframe by treatment and concentration\n",
    "        var_df = var_df.sort_values(['treatment', 'concentration'])\n",
    "        \n",
    "        # Create a new column combining treatment and concentration\n",
    "        var_df['treatment_conc'] = var_df['treatment'] + ' (' + var_df['concentration'].astype(str) + ')'\n",
    "        \n",
    "        # Get the order for x-axis based on sorted dataframe\n",
    "        order = var_df['treatment_conc'].unique()\n",
    "        \n",
    "        # Create the box plot with color-coded treatments and specified order\n",
    "        _ = sns.boxplot(x='treatment_conc', y='value', data=var_df, hue='treatment', palette='Set2', order=order)\n",
    "        \n",
    "        _ = plt.title(f'{variable} by Treatment and Concentration', fontsize=16)\n",
    "        _ = plt.xlabel('Treatment (Concentration)', fontsize=12)\n",
    "        _ = plt.ylabel(variable, fontsize=12)\n",
    "        _ = plt.xticks(rotation=90, ha='right')\n",
    "        \n",
    "        # Adjust legend\n",
    "        _ = plt.legend(title='Treatment', bbox_to_anchor=(1.05, 1), loc='upper left')\n",
    "        \n",
    "        _ = plt.tight_layout()\n",
    "        pdf.savefig()\n",
    "        plt.close()\n",
    "\n",
    "print(\"Plots saved to 'segmentation_plots_sorted_concentrations.pdf'\")"
   ]
  }
 ],
 "metadata": {
  "kernelspec": {
   "display_name": ".venv",
   "language": "python",
   "name": "python3"
  },
  "language_info": {
   "codemirror_mode": {
    "name": "ipython",
    "version": 3
   },
   "file_extension": ".py",
   "mimetype": "text/x-python",
   "name": "python",
   "nbconvert_exporter": "python",
   "pygments_lexer": "ipython3",
   "version": "3.12.3"
  }
 },
 "nbformat": 4,
 "nbformat_minor": 2
}
